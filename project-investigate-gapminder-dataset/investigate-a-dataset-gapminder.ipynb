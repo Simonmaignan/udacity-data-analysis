{
 "cells": [
  {
   "cell_type": "markdown",
   "metadata": {},
   "source": [
    "> **Tip**: Welcome to the Investigate a Dataset project! You will find tips in quoted sections like this to help organize your approach to your investigation. Before submitting your project, it will be a good idea to go back through your report and remove these sections to make the presentation of your work as tidy as possible. First things first, you might want to double-click this Markdown cell and change the title so that it reflects your dataset and investigation.\n",
    "\n",
    "# Project: Investigate Indicators from the Gapminder Dataset\n",
    "\n",
    "## Table of Contents\n",
    "<ul>\n",
    "<li><a href=\"#intro\">Introduction</a></li>\n",
    "<li><a href=\"#wrangling\">Data Wrangling</a></li>\n",
    "<li><a href=\"#eda\">Exploratory Data Analysis</a></li>\n",
    "<li><a href=\"#conclusions\">Conclusions</a></li>\n",
    "</ul>"
   ]
  },
  {
   "cell_type": "markdown",
   "metadata": {},
   "source": [
    "<a id='intro'></a>\n",
    "## Introduction\n",
    "\n",
    "> **Tip**: In this section of the report, provide a brief introduction to the dataset you've selected for analysis. At the end of this section, describe the questions that you plan on exploring over the course of the report. Try to build your report around the analysis of at least one dependent variable and three independent variables.\n",
    ">\n",
    "> If you haven't yet selected and downloaded your data, make sure you do that first before coming back here. If you're not sure what questions to ask right now, then make sure you familiarize yourself with the variables and the dataset context for ideas of what to explore.\n",
    "\n",
    "In this report, I will analyze 3 indicators of the Gapminder Dataset which contains the evolution of those indicators for many countries each year since 1800:\n",
    "* C02 emmissions per person\n",
    "* Life expectancy\n",
    "* Income per person (GDP per capita)"
   ]
  },
  {
   "cell_type": "code",
   "execution_count": 10,
   "metadata": {
    "collapsed": true
   },
   "outputs": [
    {
     "output_type": "stream",
     "name": "stderr",
     "text": [
      "UsageError: Line magic function `%` not found.\n"
     ]
    }
   ],
   "source": [
    "# Import\n",
    "import pandas as pd\n",
    "import matplotlib.pyplot as plt\n",
    "import seaborn as sns\n",
    "% matplotlib inline\n"
   ]
  },
  {
   "source": [
    "<a id='wrangling'></a>\n",
    "## Data Wrangling\n",
    "\n",
    "> **Tip**: In this section of the report, you will load in the data, check for cleanliness, and then trim and clean your dataset for analysis. Make sure that you document your steps carefully and justify your cleaning decisions.\n",
    "\n",
    "### General Properties"
   ],
   "cell_type": "markdown",
   "metadata": {}
  },
  {
   "cell_type": "code",
   "execution_count": 11,
   "metadata": {
    "collapsed": true
   },
   "outputs": [
    {
     "output_type": "stream",
     "name": "stdout",
     "text": [
      "<class 'pandas.core.frame.DataFrame'>\nIndex: 192 entries, Afghanistan to Zimbabwe\nColumns: 219 entries, 1800 to 2018\ndtypes: float64(219)\nmemory usage: 330.0+ KB\nNone\n"
     ]
    },
    {
     "output_type": "execute_result",
     "data": {
      "text/plain": [
       "             1800  1801  1802  1803  1804  1805  1806  1807  1808  1809  ...  \\\n",
       "country                                                                  ...   \n",
       "Afghanistan   NaN   NaN   NaN   NaN   NaN   NaN   NaN   NaN   NaN   NaN  ...   \n",
       "Albania       NaN   NaN   NaN   NaN   NaN   NaN   NaN   NaN   NaN   NaN  ...   \n",
       "Algeria       NaN   NaN   NaN   NaN   NaN   NaN   NaN   NaN   NaN   NaN  ...   \n",
       "Andorra       NaN   NaN   NaN   NaN   NaN   NaN   NaN   NaN   NaN   NaN  ...   \n",
       "Angola        NaN   NaN   NaN   NaN   NaN   NaN   NaN   NaN   NaN   NaN  ...   \n",
       "\n",
       "              2009  2010   2011   2012  2013   2014   2015   2016   2017  \\\n",
       "country                                                                    \n",
       "Afghanistan  0.238  0.29  0.406  0.345  0.28  0.253  0.262  0.245  0.247   \n",
       "Albania      1.470  1.56  1.790  1.690  1.69  1.900  1.600  1.570  1.610   \n",
       "Algeria      3.400  3.28  3.270  3.430  3.48  3.680  3.800  3.640  3.560   \n",
       "Andorra      6.120  6.12  5.870  5.920  5.90  5.830  5.970  6.070  6.270   \n",
       "Angola       1.230  1.24  1.250  1.350  1.28  1.640  1.220  1.180  1.140   \n",
       "\n",
       "              2018  \n",
       "country             \n",
       "Afghanistan  0.254  \n",
       "Albania      1.590  \n",
       "Algeria      3.690  \n",
       "Andorra      6.120  \n",
       "Angola       1.120  \n",
       "\n",
       "[5 rows x 219 columns]"
      ],
      "text/html": "<div>\n<style scoped>\n    .dataframe tbody tr th:only-of-type {\n        vertical-align: middle;\n    }\n\n    .dataframe tbody tr th {\n        vertical-align: top;\n    }\n\n    .dataframe thead th {\n        text-align: right;\n    }\n</style>\n<table border=\"1\" class=\"dataframe\">\n  <thead>\n    <tr style=\"text-align: right;\">\n      <th></th>\n      <th>1800</th>\n      <th>1801</th>\n      <th>1802</th>\n      <th>1803</th>\n      <th>1804</th>\n      <th>1805</th>\n      <th>1806</th>\n      <th>1807</th>\n      <th>1808</th>\n      <th>1809</th>\n      <th>...</th>\n      <th>2009</th>\n      <th>2010</th>\n      <th>2011</th>\n      <th>2012</th>\n      <th>2013</th>\n      <th>2014</th>\n      <th>2015</th>\n      <th>2016</th>\n      <th>2017</th>\n      <th>2018</th>\n    </tr>\n    <tr>\n      <th>country</th>\n      <th></th>\n      <th></th>\n      <th></th>\n      <th></th>\n      <th></th>\n      <th></th>\n      <th></th>\n      <th></th>\n      <th></th>\n      <th></th>\n      <th></th>\n      <th></th>\n      <th></th>\n      <th></th>\n      <th></th>\n      <th></th>\n      <th></th>\n      <th></th>\n      <th></th>\n      <th></th>\n      <th></th>\n    </tr>\n  </thead>\n  <tbody>\n    <tr>\n      <th>Afghanistan</th>\n      <td>NaN</td>\n      <td>NaN</td>\n      <td>NaN</td>\n      <td>NaN</td>\n      <td>NaN</td>\n      <td>NaN</td>\n      <td>NaN</td>\n      <td>NaN</td>\n      <td>NaN</td>\n      <td>NaN</td>\n      <td>...</td>\n      <td>0.238</td>\n      <td>0.29</td>\n      <td>0.406</td>\n      <td>0.345</td>\n      <td>0.28</td>\n      <td>0.253</td>\n      <td>0.262</td>\n      <td>0.245</td>\n      <td>0.247</td>\n      <td>0.254</td>\n    </tr>\n    <tr>\n      <th>Albania</th>\n      <td>NaN</td>\n      <td>NaN</td>\n      <td>NaN</td>\n      <td>NaN</td>\n      <td>NaN</td>\n      <td>NaN</td>\n      <td>NaN</td>\n      <td>NaN</td>\n      <td>NaN</td>\n      <td>NaN</td>\n      <td>...</td>\n      <td>1.470</td>\n      <td>1.56</td>\n      <td>1.790</td>\n      <td>1.690</td>\n      <td>1.69</td>\n      <td>1.900</td>\n      <td>1.600</td>\n      <td>1.570</td>\n      <td>1.610</td>\n      <td>1.590</td>\n    </tr>\n    <tr>\n      <th>Algeria</th>\n      <td>NaN</td>\n      <td>NaN</td>\n      <td>NaN</td>\n      <td>NaN</td>\n      <td>NaN</td>\n      <td>NaN</td>\n      <td>NaN</td>\n      <td>NaN</td>\n      <td>NaN</td>\n      <td>NaN</td>\n      <td>...</td>\n      <td>3.400</td>\n      <td>3.28</td>\n      <td>3.270</td>\n      <td>3.430</td>\n      <td>3.48</td>\n      <td>3.680</td>\n      <td>3.800</td>\n      <td>3.640</td>\n      <td>3.560</td>\n      <td>3.690</td>\n    </tr>\n    <tr>\n      <th>Andorra</th>\n      <td>NaN</td>\n      <td>NaN</td>\n      <td>NaN</td>\n      <td>NaN</td>\n      <td>NaN</td>\n      <td>NaN</td>\n      <td>NaN</td>\n      <td>NaN</td>\n      <td>NaN</td>\n      <td>NaN</td>\n      <td>...</td>\n      <td>6.120</td>\n      <td>6.12</td>\n      <td>5.870</td>\n      <td>5.920</td>\n      <td>5.90</td>\n      <td>5.830</td>\n      <td>5.970</td>\n      <td>6.070</td>\n      <td>6.270</td>\n      <td>6.120</td>\n    </tr>\n    <tr>\n      <th>Angola</th>\n      <td>NaN</td>\n      <td>NaN</td>\n      <td>NaN</td>\n      <td>NaN</td>\n      <td>NaN</td>\n      <td>NaN</td>\n      <td>NaN</td>\n      <td>NaN</td>\n      <td>NaN</td>\n      <td>NaN</td>\n      <td>...</td>\n      <td>1.230</td>\n      <td>1.24</td>\n      <td>1.250</td>\n      <td>1.350</td>\n      <td>1.28</td>\n      <td>1.640</td>\n      <td>1.220</td>\n      <td>1.180</td>\n      <td>1.140</td>\n      <td>1.120</td>\n    </tr>\n  </tbody>\n</table>\n<p>5 rows × 219 columns</p>\n</div>"
     },
     "metadata": {},
     "execution_count": 11
    }
   ],
   "source": [
    "# Load CO2 csv file into a Pandas DataFrame\n",
    "df_co2 = pd.read_csv('co2_emissions_tonnes_per_person.csv', index_col='country')\n",
    "print(df_co2.info())\n",
    "df_co2.head()"
   ]
  },
  {
   "cell_type": "code",
   "execution_count": 12,
   "metadata": {},
   "outputs": [
    {
     "output_type": "stream",
     "name": "stdout",
     "text": [
      "<class 'pandas.core.frame.DataFrame'>\nIndex: 193 entries, Afghanistan to Zimbabwe\nColumns: 241 entries, 1800 to 2040\ndtypes: int64(241)\nmemory usage: 364.9+ KB\nNone\n"
     ]
    },
    {
     "output_type": "execute_result",
     "data": {
      "text/plain": [
       "             1800  1801  1802  1803  1804  1805  1806  1807  1808  1809  ...  \\\n",
       "country                                                                  ...   \n",
       "Afghanistan   603   603   603   603   603   603   603   603   603   603  ...   \n",
       "Albania       667   667   667   667   667   668   668   668   668   668  ...   \n",
       "Algeria       715   716   717   718   719   720   721   722   723   724  ...   \n",
       "Andorra      1200  1200  1200  1200  1210  1210  1210  1210  1220  1220  ...   \n",
       "Angola        618   620   623   626   628   631   634   637   640   642  ...   \n",
       "\n",
       "              2031   2032   2033   2034   2035   2036   2037   2038   2039  \\\n",
       "country                                                                      \n",
       "Afghanistan   2550   2600   2660   2710   2770   2820   2880   2940   3000   \n",
       "Albania      19400  19800  20200  20600  21000  21500  21900  22300  22800   \n",
       "Algeria      14300  14600  14900  15200  15500  15800  16100  16500  16800   \n",
       "Andorra      73600  75100  76700  78300  79800  81500  83100  84800  86500   \n",
       "Angola        6110   6230   6350   6480   6610   6740   6880   7020   7160   \n",
       "\n",
       "              2040  \n",
       "country             \n",
       "Afghanistan   3060  \n",
       "Albania      23300  \n",
       "Algeria      17100  \n",
       "Andorra      88300  \n",
       "Angola        7310  \n",
       "\n",
       "[5 rows x 241 columns]"
      ],
      "text/html": "<div>\n<style scoped>\n    .dataframe tbody tr th:only-of-type {\n        vertical-align: middle;\n    }\n\n    .dataframe tbody tr th {\n        vertical-align: top;\n    }\n\n    .dataframe thead th {\n        text-align: right;\n    }\n</style>\n<table border=\"1\" class=\"dataframe\">\n  <thead>\n    <tr style=\"text-align: right;\">\n      <th></th>\n      <th>1800</th>\n      <th>1801</th>\n      <th>1802</th>\n      <th>1803</th>\n      <th>1804</th>\n      <th>1805</th>\n      <th>1806</th>\n      <th>1807</th>\n      <th>1808</th>\n      <th>1809</th>\n      <th>...</th>\n      <th>2031</th>\n      <th>2032</th>\n      <th>2033</th>\n      <th>2034</th>\n      <th>2035</th>\n      <th>2036</th>\n      <th>2037</th>\n      <th>2038</th>\n      <th>2039</th>\n      <th>2040</th>\n    </tr>\n    <tr>\n      <th>country</th>\n      <th></th>\n      <th></th>\n      <th></th>\n      <th></th>\n      <th></th>\n      <th></th>\n      <th></th>\n      <th></th>\n      <th></th>\n      <th></th>\n      <th></th>\n      <th></th>\n      <th></th>\n      <th></th>\n      <th></th>\n      <th></th>\n      <th></th>\n      <th></th>\n      <th></th>\n      <th></th>\n      <th></th>\n    </tr>\n  </thead>\n  <tbody>\n    <tr>\n      <th>Afghanistan</th>\n      <td>603</td>\n      <td>603</td>\n      <td>603</td>\n      <td>603</td>\n      <td>603</td>\n      <td>603</td>\n      <td>603</td>\n      <td>603</td>\n      <td>603</td>\n      <td>603</td>\n      <td>...</td>\n      <td>2550</td>\n      <td>2600</td>\n      <td>2660</td>\n      <td>2710</td>\n      <td>2770</td>\n      <td>2820</td>\n      <td>2880</td>\n      <td>2940</td>\n      <td>3000</td>\n      <td>3060</td>\n    </tr>\n    <tr>\n      <th>Albania</th>\n      <td>667</td>\n      <td>667</td>\n      <td>667</td>\n      <td>667</td>\n      <td>667</td>\n      <td>668</td>\n      <td>668</td>\n      <td>668</td>\n      <td>668</td>\n      <td>668</td>\n      <td>...</td>\n      <td>19400</td>\n      <td>19800</td>\n      <td>20200</td>\n      <td>20600</td>\n      <td>21000</td>\n      <td>21500</td>\n      <td>21900</td>\n      <td>22300</td>\n      <td>22800</td>\n      <td>23300</td>\n    </tr>\n    <tr>\n      <th>Algeria</th>\n      <td>715</td>\n      <td>716</td>\n      <td>717</td>\n      <td>718</td>\n      <td>719</td>\n      <td>720</td>\n      <td>721</td>\n      <td>722</td>\n      <td>723</td>\n      <td>724</td>\n      <td>...</td>\n      <td>14300</td>\n      <td>14600</td>\n      <td>14900</td>\n      <td>15200</td>\n      <td>15500</td>\n      <td>15800</td>\n      <td>16100</td>\n      <td>16500</td>\n      <td>16800</td>\n      <td>17100</td>\n    </tr>\n    <tr>\n      <th>Andorra</th>\n      <td>1200</td>\n      <td>1200</td>\n      <td>1200</td>\n      <td>1200</td>\n      <td>1210</td>\n      <td>1210</td>\n      <td>1210</td>\n      <td>1210</td>\n      <td>1220</td>\n      <td>1220</td>\n      <td>...</td>\n      <td>73600</td>\n      <td>75100</td>\n      <td>76700</td>\n      <td>78300</td>\n      <td>79800</td>\n      <td>81500</td>\n      <td>83100</td>\n      <td>84800</td>\n      <td>86500</td>\n      <td>88300</td>\n    </tr>\n    <tr>\n      <th>Angola</th>\n      <td>618</td>\n      <td>620</td>\n      <td>623</td>\n      <td>626</td>\n      <td>628</td>\n      <td>631</td>\n      <td>634</td>\n      <td>637</td>\n      <td>640</td>\n      <td>642</td>\n      <td>...</td>\n      <td>6110</td>\n      <td>6230</td>\n      <td>6350</td>\n      <td>6480</td>\n      <td>6610</td>\n      <td>6740</td>\n      <td>6880</td>\n      <td>7020</td>\n      <td>7160</td>\n      <td>7310</td>\n    </tr>\n  </tbody>\n</table>\n<p>5 rows × 241 columns</p>\n</div>"
     },
     "metadata": {},
     "execution_count": 12
    }
   ],
   "source": [
    "# Load Income csv file into a Pandas DataFrame\n",
    "df_income = pd.read_csv('income_per_person_gdppercapita_ppp_inflation_adjusted.csv', index_col='country')\n",
    "print(df_income.info())\n",
    "df_income.head()"
   ]
  },
  {
   "cell_type": "code",
   "execution_count": 13,
   "metadata": {},
   "outputs": [
    {
     "output_type": "stream",
     "name": "stdout",
     "text": [
      "<class 'pandas.core.frame.DataFrame'>\nIndex: 187 entries, Afghanistan to Zimbabwe\nColumns: 301 entries, 1800 to 2100\ndtypes: float64(301)\nmemory usage: 441.2+ KB\nNone\n"
     ]
    },
    {
     "output_type": "execute_result",
     "data": {
      "text/plain": [
       "             1800  1801  1802  1803  1804  1805  1806  1807  1808  1809  ...  \\\n",
       "country                                                                  ...   \n",
       "Afghanistan  28.2  28.2  28.2  28.2  28.2  28.2  28.1  28.1  28.1  28.1  ...   \n",
       "Albania      35.4  35.4  35.4  35.4  35.4  35.4  35.4  35.4  35.4  35.4  ...   \n",
       "Algeria      28.8  28.8  28.8  28.8  28.8  28.8  28.8  28.8  28.8  28.8  ...   \n",
       "Andorra       NaN   NaN   NaN   NaN   NaN   NaN   NaN   NaN   NaN   NaN  ...   \n",
       "Angola       27.0  27.0  27.0  27.0  27.0  27.0  27.0  27.0  27.0  27.0  ...   \n",
       "\n",
       "             2091  2092  2093  2094  2095  2096  2097  2098  2099  2100  \n",
       "country                                                                  \n",
       "Afghanistan  76.5  76.6  76.7  76.9  77.0  77.1  77.3  77.4  77.5  77.7  \n",
       "Albania      87.4  87.5  87.6  87.7  87.8  87.9  88.0  88.1  88.2  88.3  \n",
       "Algeria      88.3  88.4  88.5  88.6  88.7  88.8  88.9  89.0  89.1  89.2  \n",
       "Andorra       NaN   NaN   NaN   NaN   NaN   NaN   NaN   NaN   NaN   NaN  \n",
       "Angola       78.7  78.9  79.0  79.1  79.3  79.4  79.5  79.7  79.8  79.9  \n",
       "\n",
       "[5 rows x 301 columns]"
      ],
      "text/html": "<div>\n<style scoped>\n    .dataframe tbody tr th:only-of-type {\n        vertical-align: middle;\n    }\n\n    .dataframe tbody tr th {\n        vertical-align: top;\n    }\n\n    .dataframe thead th {\n        text-align: right;\n    }\n</style>\n<table border=\"1\" class=\"dataframe\">\n  <thead>\n    <tr style=\"text-align: right;\">\n      <th></th>\n      <th>1800</th>\n      <th>1801</th>\n      <th>1802</th>\n      <th>1803</th>\n      <th>1804</th>\n      <th>1805</th>\n      <th>1806</th>\n      <th>1807</th>\n      <th>1808</th>\n      <th>1809</th>\n      <th>...</th>\n      <th>2091</th>\n      <th>2092</th>\n      <th>2093</th>\n      <th>2094</th>\n      <th>2095</th>\n      <th>2096</th>\n      <th>2097</th>\n      <th>2098</th>\n      <th>2099</th>\n      <th>2100</th>\n    </tr>\n    <tr>\n      <th>country</th>\n      <th></th>\n      <th></th>\n      <th></th>\n      <th></th>\n      <th></th>\n      <th></th>\n      <th></th>\n      <th></th>\n      <th></th>\n      <th></th>\n      <th></th>\n      <th></th>\n      <th></th>\n      <th></th>\n      <th></th>\n      <th></th>\n      <th></th>\n      <th></th>\n      <th></th>\n      <th></th>\n      <th></th>\n    </tr>\n  </thead>\n  <tbody>\n    <tr>\n      <th>Afghanistan</th>\n      <td>28.2</td>\n      <td>28.2</td>\n      <td>28.2</td>\n      <td>28.2</td>\n      <td>28.2</td>\n      <td>28.2</td>\n      <td>28.1</td>\n      <td>28.1</td>\n      <td>28.1</td>\n      <td>28.1</td>\n      <td>...</td>\n      <td>76.5</td>\n      <td>76.6</td>\n      <td>76.7</td>\n      <td>76.9</td>\n      <td>77.0</td>\n      <td>77.1</td>\n      <td>77.3</td>\n      <td>77.4</td>\n      <td>77.5</td>\n      <td>77.7</td>\n    </tr>\n    <tr>\n      <th>Albania</th>\n      <td>35.4</td>\n      <td>35.4</td>\n      <td>35.4</td>\n      <td>35.4</td>\n      <td>35.4</td>\n      <td>35.4</td>\n      <td>35.4</td>\n      <td>35.4</td>\n      <td>35.4</td>\n      <td>35.4</td>\n      <td>...</td>\n      <td>87.4</td>\n      <td>87.5</td>\n      <td>87.6</td>\n      <td>87.7</td>\n      <td>87.8</td>\n      <td>87.9</td>\n      <td>88.0</td>\n      <td>88.1</td>\n      <td>88.2</td>\n      <td>88.3</td>\n    </tr>\n    <tr>\n      <th>Algeria</th>\n      <td>28.8</td>\n      <td>28.8</td>\n      <td>28.8</td>\n      <td>28.8</td>\n      <td>28.8</td>\n      <td>28.8</td>\n      <td>28.8</td>\n      <td>28.8</td>\n      <td>28.8</td>\n      <td>28.8</td>\n      <td>...</td>\n      <td>88.3</td>\n      <td>88.4</td>\n      <td>88.5</td>\n      <td>88.6</td>\n      <td>88.7</td>\n      <td>88.8</td>\n      <td>88.9</td>\n      <td>89.0</td>\n      <td>89.1</td>\n      <td>89.2</td>\n    </tr>\n    <tr>\n      <th>Andorra</th>\n      <td>NaN</td>\n      <td>NaN</td>\n      <td>NaN</td>\n      <td>NaN</td>\n      <td>NaN</td>\n      <td>NaN</td>\n      <td>NaN</td>\n      <td>NaN</td>\n      <td>NaN</td>\n      <td>NaN</td>\n      <td>...</td>\n      <td>NaN</td>\n      <td>NaN</td>\n      <td>NaN</td>\n      <td>NaN</td>\n      <td>NaN</td>\n      <td>NaN</td>\n      <td>NaN</td>\n      <td>NaN</td>\n      <td>NaN</td>\n      <td>NaN</td>\n    </tr>\n    <tr>\n      <th>Angola</th>\n      <td>27.0</td>\n      <td>27.0</td>\n      <td>27.0</td>\n      <td>27.0</td>\n      <td>27.0</td>\n      <td>27.0</td>\n      <td>27.0</td>\n      <td>27.0</td>\n      <td>27.0</td>\n      <td>27.0</td>\n      <td>...</td>\n      <td>78.7</td>\n      <td>78.9</td>\n      <td>79.0</td>\n      <td>79.1</td>\n      <td>79.3</td>\n      <td>79.4</td>\n      <td>79.5</td>\n      <td>79.7</td>\n      <td>79.8</td>\n      <td>79.9</td>\n    </tr>\n  </tbody>\n</table>\n<p>5 rows × 301 columns</p>\n</div>"
     },
     "metadata": {},
     "execution_count": 13
    }
   ],
   "source": [
    "# Load Life Expectency csv file into a Pandas DataFrame\n",
    "df_life_exp = pd.read_csv('life_expectancy_years.csv', index_col='country')\n",
    "print(df_life_exp.info())\n",
    "df_life_exp.head()"
   ]
  },
  {
   "source": [
    "* We can notice that there are a lot of missing data for the CO2 indicator in the first years\n",
    "* We can notice that the life expectency indicator is missing for many years for some countries and goes in the furture\n",
    "* We can notice that the income indicator has values for years in the future\n",
    "* We can notice that all indicators are in the float64 format\n",
    "* We can notice that each dataframe doesn't have the same number of countries (index)"
   ],
   "cell_type": "markdown",
   "metadata": {}
  },
  {
   "cell_type": "markdown",
   "metadata": {},
   "source": [
    "> **Tip**: You should _not_ perform too many operations in each cell. Create cells freely to explore your data. One option that you can take with this project is to do a lot of explorations in an initial notebook. These don't have to be organized, but make sure you use enough comments to understand the purpose of each code cell. Then, after you're done with your analysis, create a duplicate notebook where you will trim the excess and organize your steps so that you have a flowing, cohesive report.\n",
    "\n",
    "> **Tip**: Make sure that you keep your reader informed on the steps that you are taking in your investigation. Follow every code cell, or every set of related code cells, with a markdown cell to describe to the reader what was found in the preceding cell(s). Try to make it so that the reader can then understand what they will be seeing in the following cell(s).\n",
    "\n",
    "### Data Cleaning (Replace this with more specific notes!)"
   ]
  },
  {
   "cell_type": "code",
   "execution_count": 14,
   "metadata": {
    "collapsed": true
   },
   "outputs": [
    {
     "output_type": "stream",
     "name": "stdout",
     "text": [
      "<class 'pandas.core.frame.DataFrame'>\nIndex: 192 entries, Afghanistan to Zimbabwe\nColumns: 219 entries, 1800 to 2018\ndtypes: float64(219)\nmemory usage: 330.0+ KB\nNone\n"
     ]
    },
    {
     "output_type": "execute_result",
     "data": {
      "text/plain": [
       "                1800     1801     1802     1803     1804     1805     1806  \\\n",
       "country                                                                      \n",
       "Afghanistan  0.00192  0.00192  0.00192  0.00192  0.00192  0.00192  0.00192   \n",
       "Albania      0.00711  0.00711  0.00711  0.00711  0.00711  0.00711  0.00711   \n",
       "Algeria      0.00000  0.00000  0.00000  0.00000  0.00000  0.00000  0.00000   \n",
       "Andorra      7.47000  7.47000  7.47000  7.47000  7.47000  7.47000  7.47000   \n",
       "Angola       0.04110  0.04110  0.04110  0.04110  0.04110  0.04110  0.04110   \n",
       "\n",
       "                1807     1808     1809  ...   2009  2010   2011   2012  2013  \\\n",
       "country                                 ...                                    \n",
       "Afghanistan  0.00192  0.00192  0.00192  ...  0.238  0.29  0.406  0.345  0.28   \n",
       "Albania      0.00711  0.00711  0.00711  ...  1.470  1.56  1.790  1.690  1.69   \n",
       "Algeria      0.00000  0.00000  0.00000  ...  3.400  3.28  3.270  3.430  3.48   \n",
       "Andorra      7.47000  7.47000  7.47000  ...  6.120  6.12  5.870  5.920  5.90   \n",
       "Angola       0.04110  0.04110  0.04110  ...  1.230  1.24  1.250  1.350  1.28   \n",
       "\n",
       "              2014   2015   2016   2017   2018  \n",
       "country                                         \n",
       "Afghanistan  0.253  0.262  0.245  0.247  0.254  \n",
       "Albania      1.900  1.600  1.570  1.610  1.590  \n",
       "Algeria      3.680  3.800  3.640  3.560  3.690  \n",
       "Andorra      5.830  5.970  6.070  6.270  6.120  \n",
       "Angola       1.640  1.220  1.180  1.140  1.120  \n",
       "\n",
       "[5 rows x 219 columns]"
      ],
      "text/html": "<div>\n<style scoped>\n    .dataframe tbody tr th:only-of-type {\n        vertical-align: middle;\n    }\n\n    .dataframe tbody tr th {\n        vertical-align: top;\n    }\n\n    .dataframe thead th {\n        text-align: right;\n    }\n</style>\n<table border=\"1\" class=\"dataframe\">\n  <thead>\n    <tr style=\"text-align: right;\">\n      <th></th>\n      <th>1800</th>\n      <th>1801</th>\n      <th>1802</th>\n      <th>1803</th>\n      <th>1804</th>\n      <th>1805</th>\n      <th>1806</th>\n      <th>1807</th>\n      <th>1808</th>\n      <th>1809</th>\n      <th>...</th>\n      <th>2009</th>\n      <th>2010</th>\n      <th>2011</th>\n      <th>2012</th>\n      <th>2013</th>\n      <th>2014</th>\n      <th>2015</th>\n      <th>2016</th>\n      <th>2017</th>\n      <th>2018</th>\n    </tr>\n    <tr>\n      <th>country</th>\n      <th></th>\n      <th></th>\n      <th></th>\n      <th></th>\n      <th></th>\n      <th></th>\n      <th></th>\n      <th></th>\n      <th></th>\n      <th></th>\n      <th></th>\n      <th></th>\n      <th></th>\n      <th></th>\n      <th></th>\n      <th></th>\n      <th></th>\n      <th></th>\n      <th></th>\n      <th></th>\n      <th></th>\n    </tr>\n  </thead>\n  <tbody>\n    <tr>\n      <th>Afghanistan</th>\n      <td>0.00192</td>\n      <td>0.00192</td>\n      <td>0.00192</td>\n      <td>0.00192</td>\n      <td>0.00192</td>\n      <td>0.00192</td>\n      <td>0.00192</td>\n      <td>0.00192</td>\n      <td>0.00192</td>\n      <td>0.00192</td>\n      <td>...</td>\n      <td>0.238</td>\n      <td>0.29</td>\n      <td>0.406</td>\n      <td>0.345</td>\n      <td>0.28</td>\n      <td>0.253</td>\n      <td>0.262</td>\n      <td>0.245</td>\n      <td>0.247</td>\n      <td>0.254</td>\n    </tr>\n    <tr>\n      <th>Albania</th>\n      <td>0.00711</td>\n      <td>0.00711</td>\n      <td>0.00711</td>\n      <td>0.00711</td>\n      <td>0.00711</td>\n      <td>0.00711</td>\n      <td>0.00711</td>\n      <td>0.00711</td>\n      <td>0.00711</td>\n      <td>0.00711</td>\n      <td>...</td>\n      <td>1.470</td>\n      <td>1.56</td>\n      <td>1.790</td>\n      <td>1.690</td>\n      <td>1.69</td>\n      <td>1.900</td>\n      <td>1.600</td>\n      <td>1.570</td>\n      <td>1.610</td>\n      <td>1.590</td>\n    </tr>\n    <tr>\n      <th>Algeria</th>\n      <td>0.00000</td>\n      <td>0.00000</td>\n      <td>0.00000</td>\n      <td>0.00000</td>\n      <td>0.00000</td>\n      <td>0.00000</td>\n      <td>0.00000</td>\n      <td>0.00000</td>\n      <td>0.00000</td>\n      <td>0.00000</td>\n      <td>...</td>\n      <td>3.400</td>\n      <td>3.28</td>\n      <td>3.270</td>\n      <td>3.430</td>\n      <td>3.48</td>\n      <td>3.680</td>\n      <td>3.800</td>\n      <td>3.640</td>\n      <td>3.560</td>\n      <td>3.690</td>\n    </tr>\n    <tr>\n      <th>Andorra</th>\n      <td>7.47000</td>\n      <td>7.47000</td>\n      <td>7.47000</td>\n      <td>7.47000</td>\n      <td>7.47000</td>\n      <td>7.47000</td>\n      <td>7.47000</td>\n      <td>7.47000</td>\n      <td>7.47000</td>\n      <td>7.47000</td>\n      <td>...</td>\n      <td>6.120</td>\n      <td>6.12</td>\n      <td>5.870</td>\n      <td>5.920</td>\n      <td>5.90</td>\n      <td>5.830</td>\n      <td>5.970</td>\n      <td>6.070</td>\n      <td>6.270</td>\n      <td>6.120</td>\n    </tr>\n    <tr>\n      <th>Angola</th>\n      <td>0.04110</td>\n      <td>0.04110</td>\n      <td>0.04110</td>\n      <td>0.04110</td>\n      <td>0.04110</td>\n      <td>0.04110</td>\n      <td>0.04110</td>\n      <td>0.04110</td>\n      <td>0.04110</td>\n      <td>0.04110</td>\n      <td>...</td>\n      <td>1.230</td>\n      <td>1.24</td>\n      <td>1.250</td>\n      <td>1.350</td>\n      <td>1.28</td>\n      <td>1.640</td>\n      <td>1.220</td>\n      <td>1.180</td>\n      <td>1.140</td>\n      <td>1.120</td>\n    </tr>\n  </tbody>\n</table>\n<p>5 rows × 219 columns</p>\n</div>"
     },
     "metadata": {},
     "execution_count": 14
    }
   ],
   "source": [
    "# After discussing the structure of the data and any problems that need to be\n",
    "#   cleaned, perform those cleaning steps in the second part of this section.\n",
    "import data_cleaning as clean\n",
    "\n",
    "clean.columns2Int(df_co2)\n",
    "clean.removeYearsInFuture(df_co2)\n",
    "clean.fillNaN(df_co2)\n",
    "print(df_co2.info())\n",
    "df_co2.head()"
   ]
  },
  {
   "cell_type": "code",
   "execution_count": 15,
   "metadata": {},
   "outputs": [
    {
     "output_type": "stream",
     "name": "stdout",
     "text": [
      "<class 'pandas.core.frame.DataFrame'>\nIndex: 193 entries, Afghanistan to Zimbabwe\nColumns: 219 entries, 1800 to 2018\ndtypes: float64(219)\nmemory usage: 331.7+ KB\nNone\n"
     ]
    },
    {
     "output_type": "execute_result",
     "data": {
      "text/plain": [
       "               1800    1801    1802    1803    1804    1805    1806    1807  \\\n",
       "country                                                                       \n",
       "Afghanistan   603.0   603.0   603.0   603.0   603.0   603.0   603.0   603.0   \n",
       "Albania       667.0   667.0   667.0   667.0   667.0   668.0   668.0   668.0   \n",
       "Algeria       715.0   716.0   717.0   718.0   719.0   720.0   721.0   722.0   \n",
       "Andorra      1200.0  1200.0  1200.0  1200.0  1210.0  1210.0  1210.0  1210.0   \n",
       "Angola        618.0   620.0   623.0   626.0   628.0   631.0   634.0   637.0   \n",
       "\n",
       "               1808    1809  ...     2009     2010     2011     2012     2013  \\\n",
       "country                      ...                                                \n",
       "Afghanistan   603.0   603.0  ...   1500.0   1670.0   1630.0   1770.0   1810.0   \n",
       "Albania       668.0   668.0  ...   9520.0   9930.0  10200.0  10400.0  10500.0   \n",
       "Algeria       723.0   724.0  ...  12700.0  12900.0  13000.0  13200.0  13300.0   \n",
       "Andorra      1220.0  1220.0  ...  41700.0  39000.0  42000.0  41900.0  43700.0   \n",
       "Angola        640.0   642.0  ...   6290.0   6360.0   6350.0   6640.0   6730.0   \n",
       "\n",
       "                2014     2015     2016     2017     2018  \n",
       "country                                                   \n",
       "Afghanistan   1800.0   1770.0   1760.0   1760.0   1740.0  \n",
       "Albania      10700.0  11000.0  11400.0  11800.0  12300.0  \n",
       "Algeria      13500.0  13800.0  13900.0  13900.0  13900.0  \n",
       "Andorra      44900.0  46600.0  48200.0  49800.0  51500.0  \n",
       "Angola        6810.0   6640.0   6260.0   6040.0   5720.0  \n",
       "\n",
       "[5 rows x 219 columns]"
      ],
      "text/html": "<div>\n<style scoped>\n    .dataframe tbody tr th:only-of-type {\n        vertical-align: middle;\n    }\n\n    .dataframe tbody tr th {\n        vertical-align: top;\n    }\n\n    .dataframe thead th {\n        text-align: right;\n    }\n</style>\n<table border=\"1\" class=\"dataframe\">\n  <thead>\n    <tr style=\"text-align: right;\">\n      <th></th>\n      <th>1800</th>\n      <th>1801</th>\n      <th>1802</th>\n      <th>1803</th>\n      <th>1804</th>\n      <th>1805</th>\n      <th>1806</th>\n      <th>1807</th>\n      <th>1808</th>\n      <th>1809</th>\n      <th>...</th>\n      <th>2009</th>\n      <th>2010</th>\n      <th>2011</th>\n      <th>2012</th>\n      <th>2013</th>\n      <th>2014</th>\n      <th>2015</th>\n      <th>2016</th>\n      <th>2017</th>\n      <th>2018</th>\n    </tr>\n    <tr>\n      <th>country</th>\n      <th></th>\n      <th></th>\n      <th></th>\n      <th></th>\n      <th></th>\n      <th></th>\n      <th></th>\n      <th></th>\n      <th></th>\n      <th></th>\n      <th></th>\n      <th></th>\n      <th></th>\n      <th></th>\n      <th></th>\n      <th></th>\n      <th></th>\n      <th></th>\n      <th></th>\n      <th></th>\n      <th></th>\n    </tr>\n  </thead>\n  <tbody>\n    <tr>\n      <th>Afghanistan</th>\n      <td>603.0</td>\n      <td>603.0</td>\n      <td>603.0</td>\n      <td>603.0</td>\n      <td>603.0</td>\n      <td>603.0</td>\n      <td>603.0</td>\n      <td>603.0</td>\n      <td>603.0</td>\n      <td>603.0</td>\n      <td>...</td>\n      <td>1500.0</td>\n      <td>1670.0</td>\n      <td>1630.0</td>\n      <td>1770.0</td>\n      <td>1810.0</td>\n      <td>1800.0</td>\n      <td>1770.0</td>\n      <td>1760.0</td>\n      <td>1760.0</td>\n      <td>1740.0</td>\n    </tr>\n    <tr>\n      <th>Albania</th>\n      <td>667.0</td>\n      <td>667.0</td>\n      <td>667.0</td>\n      <td>667.0</td>\n      <td>667.0</td>\n      <td>668.0</td>\n      <td>668.0</td>\n      <td>668.0</td>\n      <td>668.0</td>\n      <td>668.0</td>\n      <td>...</td>\n      <td>9520.0</td>\n      <td>9930.0</td>\n      <td>10200.0</td>\n      <td>10400.0</td>\n      <td>10500.0</td>\n      <td>10700.0</td>\n      <td>11000.0</td>\n      <td>11400.0</td>\n      <td>11800.0</td>\n      <td>12300.0</td>\n    </tr>\n    <tr>\n      <th>Algeria</th>\n      <td>715.0</td>\n      <td>716.0</td>\n      <td>717.0</td>\n      <td>718.0</td>\n      <td>719.0</td>\n      <td>720.0</td>\n      <td>721.0</td>\n      <td>722.0</td>\n      <td>723.0</td>\n      <td>724.0</td>\n      <td>...</td>\n      <td>12700.0</td>\n      <td>12900.0</td>\n      <td>13000.0</td>\n      <td>13200.0</td>\n      <td>13300.0</td>\n      <td>13500.0</td>\n      <td>13800.0</td>\n      <td>13900.0</td>\n      <td>13900.0</td>\n      <td>13900.0</td>\n    </tr>\n    <tr>\n      <th>Andorra</th>\n      <td>1200.0</td>\n      <td>1200.0</td>\n      <td>1200.0</td>\n      <td>1200.0</td>\n      <td>1210.0</td>\n      <td>1210.0</td>\n      <td>1210.0</td>\n      <td>1210.0</td>\n      <td>1220.0</td>\n      <td>1220.0</td>\n      <td>...</td>\n      <td>41700.0</td>\n      <td>39000.0</td>\n      <td>42000.0</td>\n      <td>41900.0</td>\n      <td>43700.0</td>\n      <td>44900.0</td>\n      <td>46600.0</td>\n      <td>48200.0</td>\n      <td>49800.0</td>\n      <td>51500.0</td>\n    </tr>\n    <tr>\n      <th>Angola</th>\n      <td>618.0</td>\n      <td>620.0</td>\n      <td>623.0</td>\n      <td>626.0</td>\n      <td>628.0</td>\n      <td>631.0</td>\n      <td>634.0</td>\n      <td>637.0</td>\n      <td>640.0</td>\n      <td>642.0</td>\n      <td>...</td>\n      <td>6290.0</td>\n      <td>6360.0</td>\n      <td>6350.0</td>\n      <td>6640.0</td>\n      <td>6730.0</td>\n      <td>6810.0</td>\n      <td>6640.0</td>\n      <td>6260.0</td>\n      <td>6040.0</td>\n      <td>5720.0</td>\n    </tr>\n  </tbody>\n</table>\n<p>5 rows × 219 columns</p>\n</div>"
     },
     "metadata": {},
     "execution_count": 15
    }
   ],
   "source": [
    "clean.columns2Int(df_income)\n",
    "clean.removeYearsInFuture(df_income)\n",
    "clean.fillNaN(df_income)\n",
    "df_income = clean.values2Float(df_income)\n",
    "print(df_income.info())\n",
    "df_income.head()"
   ]
  },
  {
   "cell_type": "code",
   "execution_count": 16,
   "metadata": {},
   "outputs": [
    {
     "output_type": "stream",
     "name": "stdout",
     "text": [
      "<class 'pandas.core.frame.DataFrame'>\nIndex: 187 entries, Afghanistan to Zimbabwe\nColumns: 219 entries, 1800 to 2018\ndtypes: float64(219)\nmemory usage: 321.4+ KB\nNone\n"
     ]
    },
    {
     "output_type": "execute_result",
     "data": {
      "text/plain": [
       "             1800  1801  1802  1803  1804  1805  1806  1807  1808  1809  ...  \\\n",
       "country                                                                  ...   \n",
       "Afghanistan  28.2  28.2  28.2  28.2  28.2  28.2  28.1  28.1  28.1  28.1  ...   \n",
       "Albania      35.4  35.4  35.4  35.4  35.4  35.4  35.4  35.4  35.4  35.4  ...   \n",
       "Algeria      28.8  28.8  28.8  28.8  28.8  28.8  28.8  28.8  28.8  28.8  ...   \n",
       "Andorra      75.5  75.5  75.5  75.5  75.5  75.5  75.5  75.5  75.5  75.5  ...   \n",
       "Angola       27.0  27.0  27.0  27.0  27.0  27.0  27.0  27.0  27.0  27.0  ...   \n",
       "\n",
       "             2009  2010  2011  2012  2013  2014  2015  2016  2017  2018  \n",
       "country                                                                  \n",
       "Afghanistan  59.3  59.9  60.4  60.8  61.3  61.2  61.2  61.2  63.4  63.7  \n",
       "Albania      77.5  77.6  77.7  77.8  77.9  77.9  78.0  78.1  78.2  78.3  \n",
       "Algeria      76.1  76.3  76.5  76.8  76.9  77.0  77.1  77.4  77.7  77.9  \n",
       "Andorra      82.2  82.3  82.4  82.4  82.5  82.5  82.6  82.7  82.7  82.7  \n",
       "Angola       59.1  59.9  60.6  61.3  61.9  62.8  63.3  63.8  64.2  64.6  \n",
       "\n",
       "[5 rows x 219 columns]"
      ],
      "text/html": "<div>\n<style scoped>\n    .dataframe tbody tr th:only-of-type {\n        vertical-align: middle;\n    }\n\n    .dataframe tbody tr th {\n        vertical-align: top;\n    }\n\n    .dataframe thead th {\n        text-align: right;\n    }\n</style>\n<table border=\"1\" class=\"dataframe\">\n  <thead>\n    <tr style=\"text-align: right;\">\n      <th></th>\n      <th>1800</th>\n      <th>1801</th>\n      <th>1802</th>\n      <th>1803</th>\n      <th>1804</th>\n      <th>1805</th>\n      <th>1806</th>\n      <th>1807</th>\n      <th>1808</th>\n      <th>1809</th>\n      <th>...</th>\n      <th>2009</th>\n      <th>2010</th>\n      <th>2011</th>\n      <th>2012</th>\n      <th>2013</th>\n      <th>2014</th>\n      <th>2015</th>\n      <th>2016</th>\n      <th>2017</th>\n      <th>2018</th>\n    </tr>\n    <tr>\n      <th>country</th>\n      <th></th>\n      <th></th>\n      <th></th>\n      <th></th>\n      <th></th>\n      <th></th>\n      <th></th>\n      <th></th>\n      <th></th>\n      <th></th>\n      <th></th>\n      <th></th>\n      <th></th>\n      <th></th>\n      <th></th>\n      <th></th>\n      <th></th>\n      <th></th>\n      <th></th>\n      <th></th>\n      <th></th>\n    </tr>\n  </thead>\n  <tbody>\n    <tr>\n      <th>Afghanistan</th>\n      <td>28.2</td>\n      <td>28.2</td>\n      <td>28.2</td>\n      <td>28.2</td>\n      <td>28.2</td>\n      <td>28.2</td>\n      <td>28.1</td>\n      <td>28.1</td>\n      <td>28.1</td>\n      <td>28.1</td>\n      <td>...</td>\n      <td>59.3</td>\n      <td>59.9</td>\n      <td>60.4</td>\n      <td>60.8</td>\n      <td>61.3</td>\n      <td>61.2</td>\n      <td>61.2</td>\n      <td>61.2</td>\n      <td>63.4</td>\n      <td>63.7</td>\n    </tr>\n    <tr>\n      <th>Albania</th>\n      <td>35.4</td>\n      <td>35.4</td>\n      <td>35.4</td>\n      <td>35.4</td>\n      <td>35.4</td>\n      <td>35.4</td>\n      <td>35.4</td>\n      <td>35.4</td>\n      <td>35.4</td>\n      <td>35.4</td>\n      <td>...</td>\n      <td>77.5</td>\n      <td>77.6</td>\n      <td>77.7</td>\n      <td>77.8</td>\n      <td>77.9</td>\n      <td>77.9</td>\n      <td>78.0</td>\n      <td>78.1</td>\n      <td>78.2</td>\n      <td>78.3</td>\n    </tr>\n    <tr>\n      <th>Algeria</th>\n      <td>28.8</td>\n      <td>28.8</td>\n      <td>28.8</td>\n      <td>28.8</td>\n      <td>28.8</td>\n      <td>28.8</td>\n      <td>28.8</td>\n      <td>28.8</td>\n      <td>28.8</td>\n      <td>28.8</td>\n      <td>...</td>\n      <td>76.1</td>\n      <td>76.3</td>\n      <td>76.5</td>\n      <td>76.8</td>\n      <td>76.9</td>\n      <td>77.0</td>\n      <td>77.1</td>\n      <td>77.4</td>\n      <td>77.7</td>\n      <td>77.9</td>\n    </tr>\n    <tr>\n      <th>Andorra</th>\n      <td>75.5</td>\n      <td>75.5</td>\n      <td>75.5</td>\n      <td>75.5</td>\n      <td>75.5</td>\n      <td>75.5</td>\n      <td>75.5</td>\n      <td>75.5</td>\n      <td>75.5</td>\n      <td>75.5</td>\n      <td>...</td>\n      <td>82.2</td>\n      <td>82.3</td>\n      <td>82.4</td>\n      <td>82.4</td>\n      <td>82.5</td>\n      <td>82.5</td>\n      <td>82.6</td>\n      <td>82.7</td>\n      <td>82.7</td>\n      <td>82.7</td>\n    </tr>\n    <tr>\n      <th>Angola</th>\n      <td>27.0</td>\n      <td>27.0</td>\n      <td>27.0</td>\n      <td>27.0</td>\n      <td>27.0</td>\n      <td>27.0</td>\n      <td>27.0</td>\n      <td>27.0</td>\n      <td>27.0</td>\n      <td>27.0</td>\n      <td>...</td>\n      <td>59.1</td>\n      <td>59.9</td>\n      <td>60.6</td>\n      <td>61.3</td>\n      <td>61.9</td>\n      <td>62.8</td>\n      <td>63.3</td>\n      <td>63.8</td>\n      <td>64.2</td>\n      <td>64.6</td>\n    </tr>\n  </tbody>\n</table>\n<p>5 rows × 219 columns</p>\n</div>"
     },
     "metadata": {},
     "execution_count": 16
    }
   ],
   "source": [
    "clean.columns2Int(df_life_exp)\n",
    "clean.removeYearsInFuture(df_life_exp)\n",
    "clean.fillNaN(df_life_exp)\n",
    "print(df_life_exp.info())\n",
    "df_life_exp.head()"
   ]
  },
  {
   "cell_type": "markdown",
   "metadata": {},
   "source": [
    "<a id='eda'></a>\n",
    "## Exploratory Data Analysis\n",
    "\n",
    "> **Tip**: Now that you've trimmed and cleaned your data, you're ready to move on to exploration. Compute statistics and create visualizations with the goal of addressing the research questions that you posed in the Introduction section. It is recommended that you be systematic with your approach. Look at one variable at a time, and then follow it up by looking at relationships between variables.\n",
    "\n",
    "### Research Question 1 (Replace this header name!)"
   ]
  },
  {
   "cell_type": "code",
   "execution_count": 17,
   "metadata": {
    "collapsed": true
   },
   "outputs": [],
   "source": [
    "# Use this, and more code cells, to explore your data. Don't forget to add\n",
    "#   Markdown cells to document your observations and findings.\n"
   ]
  },
  {
   "cell_type": "markdown",
   "metadata": {},
   "source": [
    "### Research Question 2  (Replace this header name!)"
   ]
  },
  {
   "cell_type": "code",
   "execution_count": 18,
   "metadata": {
    "collapsed": true
   },
   "outputs": [],
   "source": [
    "# Continue to explore the data to address your additional research\n",
    "#   questions. Add more headers as needed if you have more questions to\n",
    "#   investigate.\n"
   ]
  },
  {
   "cell_type": "markdown",
   "metadata": {},
   "source": [
    "<a id='conclusions'></a>\n",
    "## Conclusions\n",
    "\n",
    "> **Tip**: Finally, summarize your findings and the results that have been performed. Make sure that you are clear with regards to the limitations of your exploration. If you haven't done any statistical tests, do not imply any statistical conclusions. And make sure you avoid implying causation from correlation!\n",
    "\n",
    "> **Tip**: Once you are satisfied with your work, you should save a copy of the report in HTML or PDF form via the **File** > **Download as** submenu. Before exporting your report, check over it to make sure that the flow of the report is complete. You should probably remove all of the \"Tip\" quotes like this one so that the presentation is as tidy as possible. Congratulations!"
   ]
  },
  {
   "cell_type": "code",
   "execution_count": null,
   "metadata": {
    "collapsed": true
   },
   "outputs": [],
   "source": []
  }
 ],
 "metadata": {
  "kernelspec": {
   "display_name": "Python 3",
   "language": "python",
   "name": "python3"
  },
  "language_info": {
   "codemirror_mode": {
    "name": "ipython",
    "version": 3
   },
   "file_extension": ".py",
   "mimetype": "text/x-python",
   "name": "python",
   "nbconvert_exporter": "python",
   "pygments_lexer": "ipython3",
   "version": "3.7.6-final"
  }
 },
 "nbformat": 4,
 "nbformat_minor": 2
}