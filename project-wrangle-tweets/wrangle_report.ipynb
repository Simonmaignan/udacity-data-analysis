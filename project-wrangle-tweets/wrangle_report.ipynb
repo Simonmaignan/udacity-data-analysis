{
 "cells": [
  {
   "cell_type": "markdown",
   "metadata": {},
   "source": [
    "# Wrangle report\n",
    "For this twitter archive project, I collected information from 3 different sources:\n",
    "- The provided WeRateDogs Twitter enhanced archive named twitter_archive_enhanced.csv. I opened this file in df_twitter_archive Pandas Dataframe\n",
    "- The provided tweet image predictions file [image_predictions.tsv](https://d17h27t6h515a5.cloudfront.net/topher/2017/August/599fd2ad_image-predictions/image-predictions.tsv). I downloaded the file using a Request Get function and then opened it into the df_tweets_img_pred Pandas Dataframe.\n",
    "- I finally gathered some additional information about the tweets using the Twitter API [Tweepy](https://www.tweepy.org/). From this API, I was able, for each tweets in the twitter_archive_enhanced.csv, to retrieve the retweet count and the favorite count. I added those information as new columns in the df_twitter_archive DataFrame\n",
    "\n",
    "After gathering all the data mentioned above, I started assessing it to note any quality and tidiness problem with the data set. To detect the issues, I used visual methods (e.g. opening the dataset files into a Sheet program) and some programmatic methods (DataFrame function like info(), head(), sample() or describle()...).\n",
    "\n",
    "Once the analysis done, I started to clean the data to solve the problem found in the analysis phase. First I made a copy of the original DataFrames in order not to alter them and worked on the copy. To solve the issue, I used mainly programmatic methods with the help of many Pandas functions but I also solved a few issues manually because they were isolated problems.\n",
    "\n",
    "Here is a summary list of the issue I encountered and how I solved them.\n",
    "- Retweets shouldn't be part of the dataset. The retweets shouldn't be considered because they may skew the analysis. To do so I removed the rows where retweeted_status* is not empty and removed then the retweeted_status* columns.\n",
    "- Dog breed with highest probability and and dog flag variables from df_tweets_img_pred should be part of df_twitter_archive. This issue illustrates the fact that there are less tweets rows in df_tweets_img_pred as in df_twitter_archive.  \n",
    "In order to solve this issue, I merged the 2 concerned columns of df_tweets_img_pred into df_twitter_archive on the tweet ids, using the Pandas merge function. I only kepts the union of indexes from df_tweets_img_pred and df_twitter_archive.\n",
    "- doggo, pupper and puppo should be one categorical variable since they represent the state of a dog. I noticed however that some dogs have multiple dog stage. To solve this issue, I created a dog_stage column in df_twitter_archive and reported in it the dog stage. If a dog had 2 or more stages, I kept them all in the final dog_stage variable.\n",
    "- Some rating_numerator and rating_denominator don't follow the Dog Rates convention. To solve this issue, for some tweets I entered the numbers manually from the text. Otherwise I simply divided the numerator and denominator by a common ratio to have 10 at the denominator.\n",
    "- Many dogs have 'a' as name. Using a Regex, I extracted the dog name from the text, when present, to solve this issue for some of the cases. For the other cases, there was simply no dog name in the text so I replaced 'a' with 'None'.\n",
    "- Some tweets have missing retweet_count and favorite_count. I replaced the missing counts with 0.\n",
    "- timestamp and retweeted_status_timestamp should be a DateTime instead of a string. Using the Pandas to_date_time function I transformed the strings into DateTime Pandas Objects\n",
    "- source column should be a human readable category instead of non readable HTML code. I replaced the HTML code by the HTML content and transformed the type into a category\n",
    "\n",
    "The cleaned data was stored in the twitter_archive_master.csv file for further analysis."
   ]
  }
 ],
 "metadata": {
  "kernelspec": {
   "display_name": "Python 3",
   "language": "python",
   "name": "python3"
  },
  "language_info": {
   "codemirror_mode": {
    "name": "ipython",
    "version": 3
   },
   "file_extension": ".py",
   "mimetype": "text/x-python",
   "name": "python",
   "nbconvert_exporter": "python",
   "pygments_lexer": "ipython3",
   "version": "3.6.12"
  }
 },
 "nbformat": 4,
 "nbformat_minor": 4
}
