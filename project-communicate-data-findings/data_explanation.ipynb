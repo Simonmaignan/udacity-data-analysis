{
 "cells": [
  {
   "cell_type": "markdown",
   "metadata": {
    "slideshow": {
     "slide_type": "slide"
    }
   },
   "source": [
    "# Variables impacting the loan status and the borrower rate"
   ]
  },
  {
   "cell_type": "markdown",
   "metadata": {
    "slideshow": {
     "slide_type": "slide"
    }
   },
   "source": [
    "## Investigation Overview\n",
    "\n",
    "In this investigation, I wanted to look at the different variables that could have an impact of a loan status and on the borrower rate.\n",
    "\n",
    "## Dataset Overview\n",
    "\n",
    "The data consisted of variables caracterising approximately 110,000 loans from the propser datasets. Their were originaly around 80 variables caracterising a loan. I decided to focus on only a few variables that I thought could have the most influence on the loan status and the borrower rate. The data was cleaned and tidied due to inconsistencies or missing information."
   ]
  },
  {
   "cell_type": "code",
   "execution_count": 4,
   "metadata": {
    "scrolled": true,
    "slideshow": {
     "slide_type": "skip"
    }
   },
   "outputs": [
    {
     "name": "stdout",
     "output_type": "stream",
     "text": [
      "<class 'pandas.core.frame.DataFrame'>\n",
      "RangeIndex: 110242 entries, 0 to 110241\n",
      "Data columns (total 12 columns):\n",
      " #   Column                  Non-Null Count   Dtype         \n",
      "---  ------                  --------------   -----         \n",
      " 0   BorrowerRate            110242 non-null  float64       \n",
      " 1   Occupation              110242 non-null  category      \n",
      " 2   IsBorrowerHomeowner     110242 non-null  bool          \n",
      " 3   StatedMonthlyIncome     110242 non-null  float64       \n",
      " 4   LoanOriginalAmount      110242 non-null  int64         \n",
      " 5   LoanOriginationDate     110242 non-null  datetime64[ns]\n",
      " 6   CreditScoreRangeAvg     110242 non-null  float64       \n",
      " 7   ListingCategory         110242 non-null  category      \n",
      " 8   LoanStatusSimplified    110242 non-null  category      \n",
      " 9   HasPastDelinquencies    110242 non-null  bool          \n",
      " 10  LoanAmount2IncomeRatio  110242 non-null  float64       \n",
      " 11  HasRecommendation       110242 non-null  bool          \n",
      "dtypes: bool(3), category(3), datetime64[ns](1), float64(4), int64(1)\n",
      "memory usage: 5.7 MB\n"
     ]
    }
   ],
   "source": [
    "# Imports\n",
    "import pandas as pd\n",
    "import numpy as np\n",
    "import matplotlib.pyplot as plt\n",
    "import seaborn as sb\n",
    "import loanDFWrangle\n",
    "\n",
    "%matplotlib inline\n",
    "\n",
    "# suppress warnings from final output\n",
    "import warnings\n",
    "warnings.simplefilter(\"ignore\")\n",
    "\n",
    "base_color = sb.color_palette()[0]\n",
    "\n",
    "# Read propser loan cleaned DataFrame from the created csv file from the data_exploration.ipynb notebook\n",
    "df_loan_data = pd.read_csv('prosperLoanDataCleanedPostExplor.csv')\n",
    "\n",
    "# Transform object variables into category\n",
    "loanDFWrangle.categorizeVariables(df_loan_data)\n",
    "df_loan_data.info()"
   ]
  },
  {
   "cell_type": "markdown",
   "metadata": {
    "slideshow": {
     "slide_type": "slide"
    }
   },
   "source": [
    "## Distribution of the loan status\n",
    "There are 5 different loan statuses:\n",
    "* Payments Stopped: The borrower completely stopped his payments.\n",
    "* Past Due: The borrower is from 1 to 120 days late with his payments.\n",
    "* Ongoing: The borrower is currently reimbursing the loan.\n",
    "* Completed: The loan is closed\n",
    "\n",
    "Most of the loans are ongoing or completed, but there are enough payments stopped statuses to investigate what causes the borrower to stop paying."
   ]
  },
  {
   "cell_type": "code",
   "execution_count": 9,
   "metadata": {
    "scrolled": false,
    "slideshow": {
     "slide_type": "subslide"
    }
   },
   "outputs": [
    {
     "data": {
      "image/png": "[encoded data removed]",
      "text/plain": [
       "<Figure size 576x360 with 1 Axes>"
      ]
     },
     "metadata": {
      "needs_background": "light"
     },
     "output_type": "display_data"
    }
   ],
   "source": [
    "# Count plot of simplified loan statuses\n",
    "plt.figure(figsize=[8, 5]);\n",
    "sb.countplot(data=df_loan_data, y='LoanStatusSimplified', color=base_color);\n",
    "plt.title('Distribution of Loan Status');\n",
    "plt.ylabel('Loan status');\n",
    "plt.xlabel('Count');\n",
    "plt.show()"
   ]
  },
  {
   "cell_type": "markdown",
   "metadata": {
    "slideshow": {
     "slide_type": "slide"
    }
   },
   "source": [
    "## Distribution of the borrower Rate\n",
    "The rates are evolving from 0.05 to 0.35 with a median at 0.18.\n",
    "We can notice that the rate distribution is normal and quite symetric, with a slight skew to the right and almost unimodal, except for 2 pikes between 0.3 and 0.35.  "
   ]
  },
  {
   "cell_type": "code",
   "execution_count": 10,
   "metadata": {
    "slideshow": {
     "slide_type": "subslide"
    }
   },
   "outputs": [
    {
     "data": {
      "image/png": "[encoded data removed]",
      "text/plain": [
       "<Figure size 432x288 with 1 Axes>"
      ]
     },
     "metadata": {
      "needs_background": "light"
     },
     "output_type": "display_data"
    }
   ],
   "source": [
    "# Histogram of the borrower rate\n",
    "bin_step = 0.01\n",
    "bins = np.arange(df_loan_data.BorrowerRate.min(), df_loan_data.BorrowerRate.max() + bin_step, bin_step);\n",
    "plt.hist(data=df_loan_data, x='BorrowerRate', color=base_color, bins=bins);"
   ]
  }
 ],
 "metadata": {
  "celltoolbar": "Slideshow",
  "kernelspec": {
   "display_name": "Python 3",
   "language": "python",
   "name": "python3"
  },
  "language_info": {
   "codemirror_mode": {
    "name": "ipython",
    "version": 3
   },
   "file_extension": ".py",
   "mimetype": "text/x-python",
   "name": "python",
   "nbconvert_exporter": "python",
   "pygments_lexer": "ipython3",
   "version": "3.6.12"
  }
 },
 "nbformat": 4,
 "nbformat_minor": 4
}
